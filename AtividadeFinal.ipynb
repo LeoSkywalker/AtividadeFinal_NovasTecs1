{
  "nbformat": 4,
  "nbformat_minor": 0,
  "metadata": {
    "colab": {
      "private_outputs": true,
      "provenance": [],
      "mount_file_id": "1vOUdN5CEU9GvH4IyqVpPLhNVtu4-icYA",
      "authorship_tag": "ABX9TyNmqlXtTZAHwwJ8BrCGS0el",
      "include_colab_link": true
    },
    "kernelspec": {
      "name": "python3",
      "display_name": "Python 3"
    }
  },
  "cells": [
    {
      "cell_type": "markdown",
      "metadata": {
        "id": "view-in-github",
        "colab_type": "text"
      },
      "source": [
        "<a href=\"https://colab.research.google.com/github/LeoSkywalker/AtividadeFinal_NovasTecs1/blob/main/AtividadeFinal.ipynb\" target=\"_parent\"><img src=\"https://colab.research.google.com/assets/colab-badge.svg\" alt=\"Open In Colab\"/></a>"
      ]
    },
    {
      "cell_type": "code",
      "metadata": {
        "id": "uPsgPa502_tR"
      },
      "source": [
        "#Importação de bibliotecas\n",
        "import numpy as np\n",
        "import pandas as pd\n",
        "import math\n",
        "from matplotlib import pyplot as plt\n",
        "from matplotlib.pylab import rcParams\n",
        "rcParams['figure.figsize'] = 15,6\n",
        "from statsmodels.tsa.seasonal import seasonal_decompose\n",
        "import statsmodels.api as sm\n",
        "from statsmodels.graphics.tsaplots import plot_acf\n",
        "from statsmodels.graphics.tsaplots import plot_pacf\n",
        "from statsmodels.tsa.arima_model import ARIMA\n",
        "from tensorflow.keras.models import Sequential\n",
        "from tensorflow.keras.layers import Dense"
      ],
      "execution_count": null,
      "outputs": []
    },
    {
      "cell_type": "code",
      "metadata": {
        "id": "aqMFx3ZjEUZv"
      },
      "source": [
        "# Leitura dos dados\n",
        "dado = pd.read_csv('/content/drive/MyDrive/Colab Notebooks/AirPassengers.csv')\n",
        "print(dado.head())"
      ],
      "execution_count": null,
      "outputs": []
    },
    {
      "cell_type": "code",
      "metadata": {
        "id": "bpYU94VAHTSR"
      },
      "source": [
        "# Série Temporal\n",
        "dado = pd.read_csv('/content/drive/MyDrive/Colab Notebooks/AirPassengers.csv', header=0,parse_dates=[0],index_col=[0],squeeze=True)\n",
        "print(dado.head())"
      ],
      "execution_count": null,
      "outputs": []
    },
    {
      "cell_type": "code",
      "metadata": {
        "id": "Tr3csjr3HxcH"
      },
      "source": [
        "# Gráfico Série Temporal\n",
        "plt.title('Passageiros de Transporte Aéreo')\n",
        "plt.xlabel('Tempo')\n",
        "plt.ylabel('Número de Passageiros')\n",
        "plt.plot(dado)"
      ],
      "execution_count": null,
      "outputs": []
    },
    {
      "cell_type": "code",
      "metadata": {
        "id": "psxtcoqyJnb8"
      },
      "source": [
        "# Decomposição dos dados\n",
        "decomposicao = sm.tsa.seasonal_decompose(dado, model='additive', freq=4)\n",
        "decomposicao.plot()\n",
        "plt.show()"
      ],
      "execution_count": null,
      "outputs": []
    },
    {
      "cell_type": "code",
      "metadata": {
        "id": "ur5hwWSRK52i"
      },
      "source": [
        "# Autocorrelação\n",
        "plot_acf(dado)\n",
        "plt.xlabel('Lags')\n",
        "plt.ylabel('Autocorrelação')\n",
        "plt.show()"
      ],
      "execution_count": null,
      "outputs": []
    },
    {
      "cell_type": "code",
      "metadata": {
        "id": "JSqwCRSZMV3i"
      },
      "source": [
        "# Autocorrelação Parcial\n",
        "plot_pacf(dado)\n",
        "plt.xlabel('Lags')\n",
        "plt.ylabel('Autocorrelação Parcial')\n",
        "plt.show()"
      ],
      "execution_count": null,
      "outputs": []
    },
    {
      "cell_type": "code",
      "metadata": {
        "id": "-hJoA3YvFLH_"
      },
      "source": [
        "#ARIMA\n",
        "model = ARIMA(dado, order=(2,1,1))\n",
        "results = model.fit(disp=0)\n",
        "print(results.summary())"
      ],
      "execution_count": null,
      "outputs": []
    },
    {
      "cell_type": "code",
      "metadata": {
        "id": "P67ao1cpNMdR"
      },
      "source": [
        "# Previsão de Série Previsto-Esperado\n",
        "size=int(len(dado)*0.75)\n",
        "train, test = dado[0:size], dado[size:len(dado)]\n",
        "history = [x for x in train]\n",
        "predictions = list()\n",
        "for t in range(len(test)):\n",
        "  model = ARIMA(history, order=(2,1,1))\n",
        "  model_fit = model.fit(disp=0)\n",
        "  output = model_fit.forecast()\n",
        "  yhat = output[0]\n",
        "  predictions.append(yhat)\n",
        "  obs = test[t]\n",
        "  history.append(obs)\n",
        "  print('Previsto=%f, Esperado=%f' % (yhat, obs))"
      ],
      "execution_count": null,
      "outputs": []
    },
    {
      "cell_type": "code",
      "metadata": {
        "id": "Fra-B7OePhGu"
      },
      "source": [
        "# Gráfico de Previsão de Série Temporal\n",
        "test = np.squeeze(np.array(test))\n",
        "plt.plot(test)\n",
        "plt.plot(predictions[1:], color='red')\n",
        "plt.show()"
      ],
      "execution_count": null,
      "outputs": []
    },
    {
      "cell_type": "code",
      "metadata": {
        "id": "R53CcZtKQFsm"
      },
      "source": [
        "# ---- REDES NEURAIS ----\n",
        "# Gráfico de Séries Temporais com Redes Neurais\n",
        "plt.plot(dado, label='Air Passengers', color='blue')\n",
        "plt.show\n",
        "data=dado.values\n",
        "np.random.seed(3)"
      ],
      "execution_count": null,
      "outputs": []
    },
    {
      "cell_type": "code",
      "metadata": {
        "id": "E5-0JYjFT29b"
      },
      "source": [
        "# Separando dados de treino e teste\n",
        "data=data.astype('float32')\n",
        "train = data[0:125]\n",
        "test = data[125:]"
      ],
      "execution_count": null,
      "outputs": []
    },
    {
      "cell_type": "code",
      "metadata": {
        "id": "lDbzKcKdVAcq"
      },
      "source": [
        "# Organizando os dados com um lag a frente e separando os dados em originais e passados\n",
        "def prepare_data(data, lags=1):\n",
        "  X,Y = [], []\n",
        "  for row in range(len(data)-lags-1):\n",
        "    a=data[row:(row+lags)]\n",
        "    X.append(a)\n",
        "    Y.append(data[row+lags])\n",
        "  return np.array(X), np.array(Y)"
      ],
      "execution_count": null,
      "outputs": []
    },
    {
      "cell_type": "code",
      "metadata": {
        "id": "ZiLINFNiVrHf"
      },
      "source": [
        "# Separação dos dados em originais e passados em treinamento e teste\n",
        "lags = 1\n",
        "X_train, Y_train = prepare_data(train, lags)\n",
        "X_test, Y_test = prepare_data(test, lags)\n",
        "y_true = Y_test"
      ],
      "execution_count": null,
      "outputs": []
    },
    {
      "cell_type": "code",
      "metadata": {
        "id": "T-kqpbi5WhUx"
      },
      "source": [
        "# Gráfico de Comparação em Dados Originais e Passados\n",
        "plt.plot(Y_test, label='Dados Originais', color='purple')\n",
        "plt.plot(X_test, label='Dados Passados', color='black')\n",
        "plt.legend(loc='upper left')\n",
        "plt.show()"
      ],
      "execution_count": null,
      "outputs": []
    },
    {
      "cell_type": "code",
      "metadata": {
        "id": "T5gNeG8HW0nQ"
      },
      "source": [
        "# Treinamento da rede\n",
        "md1 = Sequential()\n",
        "md1.add(Dense(3, input_dim=lags, activation='relu'))\n",
        "md1.add(Dense(1))\n",
        "md1.compile(loss='mean_squared_error', optimizer='adam')\n",
        "md1.fit(X_train,Y_train,epochs=200,batch_size=2,verbose=2)"
      ],
      "execution_count": null,
      "outputs": []
    },
    {
      "cell_type": "code",
      "metadata": {
        "id": "rS-z9Vttm7eS"
      },
      "source": [
        "# Gráfico de Comparação de curvas na fase de treinamento\n",
        "train_predict = md1.predict(X_train)\n",
        "test_predict = md1.predict(X_test)\n",
        "plt.plot(X_train, color='purple')\n",
        "plt.plot(train_predict, color='yellow')\n",
        "plt.show()"
      ],
      "execution_count": null,
      "outputs": []
    },
    {
      "cell_type": "code",
      "metadata": {
        "id": "2dcxB9eHoYg8"
      },
      "source": [
        "# Gráfico de Comparação de curvas na fase de teste\n",
        "plt.plot(X_test, color='purple')\n",
        "plt.plot(test_predict, color='yellow')\n",
        "plt.show()"
      ],
      "execution_count": null,
      "outputs": []
    },
    {
      "cell_type": "code",
      "metadata": {
        "id": "bNiYjFH4qGkY"
      },
      "source": [
        "# Análise de desempenho treinamento-teste (loss)\n",
        "train_score = print('Treinamento: ', md1.evaluate(X_train, Y_train, verbose=1))\n",
        "test_score = print('Teste: ', md1.evaluate(X_test, Y_test, verbose=1))\n"
      ],
      "execution_count": null,
      "outputs": []
    }
  ]
}